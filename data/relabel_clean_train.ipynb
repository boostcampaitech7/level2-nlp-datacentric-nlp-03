{
 "cells": [
  {
   "cell_type": "code",
   "execution_count": null,
   "metadata": {},
   "outputs": [],
   "source": [
    "import torch\n",
    "import pandas as pd\n",
    "from transformers import AutoTokenizer, AutoModelForSequenceClassification, Trainer, TrainingArguments\n",
    "from datasets import Dataset\n",
    "from tqdm import tqdm\n",
    "\n",
    "# 시드 설정\n",
    "SEED = 456\n",
    "torch.manual_seed(SEED)\n",
    "torch.cuda.manual_seed(SEED)\n",
    "torch.cuda.manual_seed_all(SEED)\n",
    "\n",
    "# 디바이스 설정\n",
    "DEVICE = torch.device('cuda') if torch.cuda.is_available() else torch.device('cpu')\n",
    "\n",
    "# 모델과 토크나이저 로드\n",
    "model_name = \"klue/bert-base\"\n",
    "tokenizer = AutoTokenizer.from_pretrained(model_name)\n",
    "model = AutoModelForSequenceClassification.from_pretrained(model_name, num_labels=7).to(DEVICE)\n",
    "\n",
    "# 패딩 토큰 설정\n",
    "if tokenizer.pad_token is None:\n",
    "    tokenizer.add_special_tokens({'pad_token': '[PAD]'})\n",
    "\n",
    "# 데이터 로드\n",
    "noise_data = pd.read_csv(\"noise_train.csv\")\n",
    "clean_data = pd.read_csv(\"clean_train.csv\")\n",
    "\n",
    "# 최대 입력 길이 설정\n",
    "max_length = 128  # 모델에 따라 맞는 값으로 설정\n",
    "\n",
    "# 텍스트와 레이블을 학습에 사용될 형태로 변환\n",
    "def tokenize_function(examples):\n",
    "    return tokenizer(examples[\"text\"], padding=\"max_length\", truncation=True, max_length=max_length)\n",
    "\n",
    "train_dataset = Dataset.from_pandas(noise_data[['text', 'target']])\n",
    "train_dataset = train_dataset.map(tokenize_function, batched=True)\n",
    "train_dataset = train_dataset.rename_column(\"target\", \"labels\")\n",
    "\n",
    "# 학습 파라미터 설정\n",
    "training_args = TrainingArguments(\n",
    "    output_dir=\"./results\",\n",
    "    evaluation_strategy=\"no\",\n",
    "    learning_rate=2e-5,\n",
    "    per_device_train_batch_size=32,\n",
    "    num_train_epochs=12,\n",
    "    weight_decay=0.01,\n",
    "    seed=SEED,\n",
    ")\n",
    "\n",
    "# Trainer 설정\n",
    "trainer = Trainer(\n",
    "    model=model,\n",
    "    args=training_args,\n",
    "    train_dataset=train_dataset,\n",
    ")\n",
    "\n",
    "# 모델 학습\n",
    "trainer.train()\n",
    "\n",
    "# Clean Data 재라벨링 준비\n",
    "clean_dataset = Dataset.from_dict({\"text\": clean_data['text'].tolist()})\n",
    "clean_dataset = clean_dataset.map(tokenize_function, batched=True)\n",
    "\n",
    "# 예측 함수\n",
    "def relabel_texts(dataset):\n",
    "    predictions = trainer.predict(dataset).predictions\n",
    "    predicted_labels = predictions.argmax(axis=1)\n",
    "    return predicted_labels\n",
    "\n",
    "# 재라벨링 수행\n",
    "clean_data['target'] = relabel_texts(clean_dataset)\n",
    "\n",
    "# 데이터 저장\n",
    "final_data = clean_data[['ID', 'text', 'target']]\n",
    "final_data.to_csv(\"relabel_clean_train.csv\", index=False)"
   ]
  },
  {
   "cell_type": "code",
   "execution_count": null,
   "metadata": {},
   "outputs": [
    {
     "name": "stderr",
     "output_type": "stream",
     "text": [
      "Some weights of BertForSequenceClassification were not initialized from the model checkpoint at klue/bert-base and are newly initialized: ['classifier.bias', 'classifier.weight']\n",
      "You should probably TRAIN this model on a down-stream task to be able to use it for predictions and inference.\n",
      "Some weights of RobertaForSequenceClassification were not initialized from the model checkpoint at klue/roberta-base and are newly initialized: ['classifier.dense.bias', 'classifier.dense.weight', 'classifier.out_proj.bias', 'classifier.out_proj.weight']\n",
      "You should probably TRAIN this model on a down-stream task to be able to use it for predictions and inference.\n",
      "Some weights of RobertaForSequenceClassification were not initialized from the model checkpoint at klue/roberta-large and are newly initialized: ['classifier.dense.bias', 'classifier.dense.weight', 'classifier.out_proj.bias', 'classifier.out_proj.weight']\n",
      "You should probably TRAIN this model on a down-stream task to be able to use it for predictions and inference.\n",
      "Some weights of RobertaForSequenceClassification were not initialized from the model checkpoint at klue/roberta-small and are newly initialized: ['classifier.dense.bias', 'classifier.dense.weight', 'classifier.out_proj.bias', 'classifier.out_proj.weight']\n",
      "You should probably TRAIN this model on a down-stream task to be able to use it for predictions and inference.\n"
     ]
    },
    {
     "data": {
      "application/vnd.jupyter.widget-view+json": {
       "model_id": "8a7ba5b46230427c98a94781c4e5c979",
       "version_major": 2,
       "version_minor": 0
      },
      "text/plain": [
       "Map:   0%|          | 0/6400 [00:00<?, ? examples/s]"
      ]
     },
     "metadata": {},
     "output_type": "display_data"
    },
    {
     "name": "stderr",
     "output_type": "stream",
     "text": [
      "/opt/conda/lib/python3.10/site-packages/transformers/training_args.py:1559: FutureWarning: `evaluation_strategy` is deprecated and will be removed in version 4.46 of 🤗 Transformers. Use `eval_strategy` instead\n",
      "  warnings.warn(\n"
     ]
    },
    {
     "data": {
      "application/vnd.jupyter.widget-view+json": {
       "model_id": "e491f197fb554887b1da4ed95253c15c",
       "version_major": 2,
       "version_minor": 0
      },
      "text/plain": [
       "Map:   0%|          | 0/6400 [00:00<?, ? examples/s]"
      ]
     },
     "metadata": {},
     "output_type": "display_data"
    },
    {
     "name": "stderr",
     "output_type": "stream",
     "text": [
      "Detected kernel version 5.4.0, which is below the recommended minimum of 5.5.0; this can cause the process to hang. It is recommended to upgrade the kernel to the minimum version or higher.\n"
     ]
    },
    {
     "data": {
      "text/html": [
       "\n",
       "    <div>\n",
       "      \n",
       "      <progress value='600' max='600' style='width:300px; height:20px; vertical-align: middle;'></progress>\n",
       "      [600/600 02:21, Epoch 3/3]\n",
       "    </div>\n",
       "    <table border=\"1\" class=\"dataframe\">\n",
       "  <thead>\n",
       " <tr style=\"text-align: left;\">\n",
       "      <th>Step</th>\n",
       "      <th>Training Loss</th>\n",
       "    </tr>\n",
       "  </thead>\n",
       "  <tbody>\n",
       "    <tr>\n",
       "      <td>500</td>\n",
       "      <td>0.697000</td>\n",
       "    </tr>\n",
       "  </tbody>\n",
       "</table><p>"
      ],
      "text/plain": [
       "<IPython.core.display.HTML object>"
      ]
     },
     "metadata": {},
     "output_type": "display_data"
    },
    {
     "data": {
      "application/vnd.jupyter.widget-view+json": {
       "model_id": "9e4e0f8c46c94759af15201615661170",
       "version_major": 2,
       "version_minor": 0
      },
      "text/plain": [
       "Map:   0%|          | 0/6400 [00:00<?, ? examples/s]"
      ]
     },
     "metadata": {},
     "output_type": "display_data"
    },
    {
     "name": "stderr",
     "output_type": "stream",
     "text": [
      "Detected kernel version 5.4.0, which is below the recommended minimum of 5.5.0; this can cause the process to hang. It is recommended to upgrade the kernel to the minimum version or higher.\n"
     ]
    },
    {
     "data": {
      "text/html": [
       "\n",
       "    <div>\n",
       "      \n",
       "      <progress value='501' max='600' style='width:300px; height:20px; vertical-align: middle;'></progress>\n",
       "      [501/600 01:44 < 00:20, 4.76 it/s, Epoch 2.50/3]\n",
       "    </div>\n",
       "    <table border=\"1\" class=\"dataframe\">\n",
       "  <thead>\n",
       " <tr style=\"text-align: left;\">\n",
       "      <th>Step</th>\n",
       "      <th>Training Loss</th>\n",
       "    </tr>\n",
       "  </thead>\n",
       "  <tbody>\n",
       "  </tbody>\n",
       "</table><p>"
      ],
      "text/plain": [
       "<IPython.core.display.HTML object>"
      ]
     },
     "metadata": {},
     "output_type": "display_data"
    }
   ],
   "source": [
    "import torch\n",
    "import pandas as pd\n",
    "from transformers import AutoTokenizer, AutoModelForSequenceClassification, Trainer, TrainingArguments\n",
    "from datasets import Dataset\n",
    "from tqdm import tqdm\n",
    "\n",
    "# 시드 설정\n",
    "SEED = 456\n",
    "torch.manual_seed(SEED)\n",
    "torch.cuda.manual_seed(SEED)\n",
    "torch.cuda.manual_seed_all(SEED)\n",
    "\n",
    "# 디바이스 설정\n",
    "DEVICE = torch.device('cuda') if torch.cuda.is_available() else torch.device('cpu')\n",
    "\n",
    "# 모델과 토크나이저 로드 함수\n",
    "def load_model_and_tokenizer(model_name, num_labels=7):\n",
    "    tokenizer = AutoTokenizer.from_pretrained(model_name)\n",
    "    model = AutoModelForSequenceClassification.from_pretrained(model_name, num_labels=num_labels).to(DEVICE)\n",
    "    if tokenizer.pad_token is None:\n",
    "        tokenizer.add_special_tokens({'pad_token': '[PAD]'})\n",
    "    return model, tokenizer\n",
    "\n",
    "# 데이터 로드\n",
    "noise_data = pd.read_csv(\"expanded_noise_train.csv\")\n",
    "clean_data = pd.read_csv(\"clean_train.csv\")\n",
    "\n",
    "# 최대 입력 길이 설정\n",
    "max_length = 128  # 모델에 따라 맞는 값으로 설정\n",
    "\n",
    "# 모델과 토크나이저 로드 (네 개의 서로 다른 모델 사용)\n",
    "models_and_tokenizers = [\n",
    "    load_model_and_tokenizer(\"klue/bert-base\"),\n",
    "    load_model_and_tokenizer(\"klue/roberta-base\"),\n",
    "    load_model_and_tokenizer(\"klue/roberta-large\"),\n",
    "    load_model_and_tokenizer(\"klue/roberta-small\")\n",
    "]\n",
    "\n",
    "# 텍스트와 레이블을 학습에 사용될 형태로 변환\n",
    "def tokenize_function(examples, tokenizer):\n",
    "    return tokenizer(examples[\"text\"], padding=\"max_length\", truncation=True, max_length=max_length)\n",
    "\n",
    "# 학습용 데이터셋 준비\n",
    "train_dataset = Dataset.from_pandas(noise_data[['text', 'target']])\n",
    "train_dataset = train_dataset.map(lambda x: tokenize_function(x, models_and_tokenizers[0][1]), batched=True)\n",
    "train_dataset = train_dataset.rename_column(\"target\", \"labels\")\n",
    "\n",
    "# 학습 파라미터 설정\n",
    "training_args = TrainingArguments(\n",
    "    output_dir=\"./results\",\n",
    "    evaluation_strategy=\"no\",\n",
    "    learning_rate=2e-5,\n",
    "    per_device_train_batch_size=32,\n",
    "    num_train_epochs=3,\n",
    "    weight_decay=0.01,\n",
    "    seed=SEED,\n",
    ")\n",
    "\n",
    "# 각 모델 학습\n",
    "trainers = []\n",
    "for model, tokenizer in models_and_tokenizers:\n",
    "    tokenized_train_dataset = train_dataset.map(lambda x: tokenize_function(x, tokenizer), batched=True)\n",
    "    trainer = Trainer(\n",
    "        model=model,\n",
    "        args=training_args,\n",
    "        train_dataset=tokenized_train_dataset,\n",
    "    )\n",
    "    trainer.train()\n",
    "    trainers.append(trainer)\n",
    "\n",
    "# Clean Data 재라벨링 준비\n",
    "clean_dataset = Dataset.from_dict({\"text\": clean_data['text'].tolist()})\n",
    "clean_dataset = clean_dataset.map(lambda x: tokenize_function(x, models_and_tokenizers[0][1]), batched=True)\n",
    "\n",
    "# 예측 함수 (모델 앙상블)\n",
    "def relabel_texts_ensemble(dataset):\n",
    "    predictions = []\n",
    "    for trainer in trainers:\n",
    "        pred = trainer.predict(dataset).predictions\n",
    "        predictions.append(pred)\n",
    "    # 모든 모델의 예측을 평균하여 최종 예측 생성\n",
    "    ensemble_predictions = sum(predictions) / len(predictions)\n",
    "    predicted_labels = ensemble_predictions.argmax(axis=1)\n",
    "    return predicted_labels\n",
    "\n",
    "# 재라벨링 수행\n",
    "clean_data['target'] = relabel_texts_ensemble(clean_dataset)\n",
    "\n",
    "# 데이터 저장\n",
    "final_data = clean_data[['ID', 'text', 'target']]\n",
    "final_data.to_csv(\"relabel_clean_train.csv\", index=False)"
   ]
  }
 ],
 "metadata": {
  "kernelspec": {
   "display_name": "base",
   "language": "python",
   "name": "python3"
  },
  "language_info": {
   "codemirror_mode": {
    "name": "ipython",
    "version": 3
   },
   "file_extension": ".py",
   "mimetype": "text/x-python",
   "name": "python",
   "nbconvert_exporter": "python",
   "pygments_lexer": "ipython3",
   "version": "3.10.13"
  }
 },
 "nbformat": 4,
 "nbformat_minor": 2
}
