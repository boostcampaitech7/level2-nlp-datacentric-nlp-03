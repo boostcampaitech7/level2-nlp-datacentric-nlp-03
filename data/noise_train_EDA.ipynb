{
 "cells": [
  {
   "cell_type": "code",
   "execution_count": 4,
   "metadata": {},
   "outputs": [],
   "source": [
    "import pandas as pd\n",
    "import re\n",
    "from collections import defaultdict\n",
    "\n",
    "# 데이터 로드\n",
    "data_path = 'noise_train.csv'\n",
    "data = pd.read_csv(data_path)\n",
    "\n",
    "# 특수문자 제거 함수\n",
    "def remove_special_characters(text):\n",
    "    return re.sub(r'[^A-Za-z0-9가-힣 ]+', '', text)\n",
    "\n",
    "# 대소문자 변환 함수 (소문자화)\n",
    "def to_lowercase(text):\n",
    "    return text.lower()\n",
    "\n",
    "# 공백 추가 함수\n",
    "def add_spaces(text):\n",
    "    return '  '.join(text.split())\n",
    "\n",
    "# 증강 데이터 저장용 딕셔너리 생성\n",
    "expanded_data = defaultdict(list)\n",
    "\n",
    "# 각 텍스트 변형을 추가하여 4배로 증강\n",
    "for idx, row in data.iterrows():\n",
    "    text = row['text']\n",
    "    target = row['target']\n",
    "    record_id = row['ID']\n",
    "\n",
    "    # 원본 텍스트\n",
    "    expanded_data['ID'].append(record_id)\n",
    "    expanded_data['text'].append(text)\n",
    "    expanded_data['target'].append(target)\n",
    "\n",
    "    # 특수문자 제거 텍스트\n",
    "    expanded_data['ID'].append(record_id)\n",
    "    expanded_data['text'].append(remove_special_characters(text))\n",
    "    expanded_data['target'].append(target)\n",
    "\n",
    "    # 대소문자 변환 (소문자화) 텍스트\n",
    "    expanded_data['ID'].append(record_id)\n",
    "    expanded_data['text'].append(to_lowercase(text))\n",
    "    expanded_data['target'].append(target)\n",
    "\n",
    "    # 공백 추가 텍스트\n",
    "    expanded_data['ID'].append(record_id)\n",
    "    expanded_data['text'].append(add_spaces(text))\n",
    "    expanded_data['target'].append(target)\n",
    "\n",
    "# 데이터프레임으로 변환 및 저장\n",
    "expanded_df = pd.DataFrame(expanded_data)\n",
    "expanded_data_path = 'expanded_noise_train.csv'\n",
    "expanded_df.to_csv(expanded_data_path, index=False)"
   ]
  }
 ],
 "metadata": {
  "kernelspec": {
   "display_name": "base",
   "language": "python",
   "name": "python3"
  },
  "language_info": {
   "codemirror_mode": {
    "name": "ipython",
    "version": 3
   },
   "file_extension": ".py",
   "mimetype": "text/x-python",
   "name": "python",
   "nbconvert_exporter": "python",
   "pygments_lexer": "ipython3",
   "version": "3.10.13"
  }
 },
 "nbformat": 4,
 "nbformat_minor": 2
}
