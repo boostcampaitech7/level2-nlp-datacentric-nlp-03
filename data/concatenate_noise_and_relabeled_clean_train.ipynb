{
 "cells": [
  {
   "cell_type": "code",
   "execution_count": null,
   "metadata": {},
   "outputs": [],
   "source": [
    "import pandas as pd\n",
    "\n",
    "# 파일 로드\n",
    "noise_data = pd.read_csv(\"expanded_noise_train.csv\")\n",
    "relabel_clean_data = pd.read_csv(\"expanded_relabeled_clean_train.csv\")\n",
    "\n",
    "combined_data = pd.concat([noise_data, relabel_clean_data], ignore_index=True)\n",
    "\n",
    "# 합쳐진 데이터 확인 및 저장\n",
    "print(combined_data.head())\n",
    "combined_data.to_csv(\"train.csv\", index=False)"
   ]
  }
 ],
 "metadata": {
  "language_info": {
   "name": "python"
  }
 },
 "nbformat": 4,
 "nbformat_minor": 2
}
