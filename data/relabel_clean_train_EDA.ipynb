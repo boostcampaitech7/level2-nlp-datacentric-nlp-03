{
 "cells": [
  {
   "cell_type": "code",
   "execution_count": null,
   "metadata": {},
   "outputs": [],
   "source": [
    "import pandas as pd\n",
    "import random\n",
    "from collections import defaultdict\n",
    "from koeda import EDA\n",
    "\n",
    "data_path = 'relabeled_clean_train.csv'\n",
    "data = pd.read_csv(data_path)\n",
    "\n",
    "random.seed(42)\n",
    "\n",
    "eda = EDA(morpheme_analyzer=\"Okt\", alpha_sr=0.3, alpha_ri=0.3, alpha_rs=0.3, prob_rd=0.3)\n",
    "\n",
    "# 데이터셋을 5배로 증강 (원본 + SR + RI + RS + RD)\n",
    "expanded_data = defaultdict(list)\n",
    "\n",
    "for idx, row in data.iterrows():\n",
    "    text = row['text']\n",
    "    target = row['target']\n",
    "    record_id = row['ID']\n",
    "\n",
    "    # Original\n",
    "    expanded_data['ID'].append(record_id)\n",
    "    expanded_data['text'].append(text)\n",
    "    expanded_data['target'].append(target)\n",
    "\n",
    "    # Synonym Replacement (SR)\n",
    "    sr_augmented = eda(text, p=(0.1, 0, 0, 0))\n",
    "    expanded_data['ID'].append(record_id)\n",
    "    expanded_data['text'].append(sr_augmented)\n",
    "    expanded_data['target'].append(target)\n",
    "\n",
    "    # Random Insertion (RI)\n",
    "    # ri_augmented = eda(text, p=(0, 0.1, 0, 0))\n",
    "    # expanded_data['ID'].append(record_id)\n",
    "    # expanded_data['text'].append(ri_augmented)\n",
    "    # expanded_data['target'].append(target)\n",
    "\n",
    "    # Random Swap (RS)\n",
    "    rs_augmented = eda(text, p=(0, 0, 0.1, 0))\n",
    "    expanded_data['ID'].append(record_id)\n",
    "    expanded_data['text'].append(rs_augmented)\n",
    "    expanded_data['target'].append(target)\n",
    "\n",
    "    # Random Deletion (RD)\n",
    "    rd_augmented = eda(text, p=(0, 0, 0, 0.1))\n",
    "    expanded_data['ID'].append(record_id)\n",
    "    expanded_data['text'].append(rd_augmented)\n",
    "    expanded_data['target'].append(target)\n",
    "\n",
    "# DataFrame으로 변환하고 저장\n",
    "expanded_df = pd.DataFrame(expanded_data)\n",
    "expanded_data_path = 'expanded_relabeled_clean_train.csv'\n",
    "expanded_df.to_csv(expanded_data_path, index=False)"
   ]
  }
 ],
 "metadata": {
  "kernelspec": {
   "display_name": "base",
   "language": "python",
   "name": "python3"
  },
  "language_info": {
   "codemirror_mode": {
    "name": "ipython",
    "version": 3
   },
   "file_extension": ".py",
   "mimetype": "text/x-python",
   "name": "python",
   "nbconvert_exporter": "python",
   "pygments_lexer": "ipython3",
   "version": "3.10.13"
  }
 },
 "nbformat": 4,
 "nbformat_minor": 2
}
